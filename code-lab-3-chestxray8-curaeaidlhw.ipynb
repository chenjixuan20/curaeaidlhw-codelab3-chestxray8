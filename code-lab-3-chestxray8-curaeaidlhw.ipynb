{
  "nbformat": 4,
  "nbformat_minor": 0,
  "metadata": {
    "kernelspec": {
      "display_name": "Intel Python",
      "language": "python",
      "name": "intelpython"
    },
    "language_info": {
      "codemirror_mode": {
        "name": "ipython",
        "version": 3
      },
      "file_extension": ".py",
      "mimetype": "text/x-python",
      "name": "python",
      "nbconvert_exporter": "python",
      "pygments_lexer": "ipython3",
      "version": "3.6.8"
    },
    "toc": {
      "base_numbering": 1,
      "nav_menu": {},
      "number_sections": true,
      "sideBar": true,
      "skip_h1_title": false,
      "title_cell": "Table of Contents",
      "title_sidebar": "Contents",
      "toc_cell": false,
      "toc_position": {},
      "toc_section_display": true,
      "toc_window_display": false
    },
    "colab": {
      "name": "code-lab-3-chestxray8-curaeaidlhw.ipynb",
      "provenance": []
    }
  },
  "cells": [
    {
      "cell_type": "markdown",
      "metadata": {
        "id": "H0XQkWTnwWB0",
        "colab_type": "text"
      },
      "source": [
        "Code Lab 3: ChestX-ray8, National Institutes of Health Chest X-Ray Dataset\n",
        "==="
      ]
    },
    {
      "cell_type": "markdown",
      "metadata": {
        "id": "JV3dWdLAwWB2",
        "colab_type": "text"
      },
      "source": [
        "These are the materials for the third code lab in Curae.ai's Deep Learning in Healthcare Workshop.\n",
        "\n",
        "The notebook in this lab is only a baseline notebook meant to help users download the dataset, document its formatting and discuss multi-label classification. Users will compete using this multilabel classification in the Curae.ai DLWH competition. Class is over! You are ready."
      ]
    },
    {
      "cell_type": "markdown",
      "metadata": {
        "id": "WUWVX2sNwWB3",
        "colab_type": "text"
      },
      "source": [
        "# The Problem"
      ]
    },
    {
      "cell_type": "markdown",
      "metadata": {
        "id": "zih5xpR2wWB4",
        "colab_type": "text"
      },
      "source": [
        "In this code lab we will investigate the ChestX-ray8 dataset published by the National Institutes of Health (NIH).  From the paper describing the release of the dataset:\n",
        "> The chest X-ray is one of the most commonly accessible radiological examinations for screening and diagnosis of many lung diseases. A tremendous number of X-ray imaging studies accompanied by radiological reports are accumulated and stored in many modern hospitals’ Picture Archiving and Communication Systems (PACS). On the other side, it is still an open question how this type of hospital-size knowledge database containing invaluable imaging informatics (i.e., loosely labeled) can be used to facilitate the data-hungry deep learning paradigms in building truly large-scale high precision computer-aided diagnosis (CAD) systems. [1](http://openaccess.thecvf.com/content_cvpr_2017/papers/Wang_ChestX-ray8_Hospital-Scale_Chest_CVPR_2017_paper.pdf)"
      ]
    },
    {
      "cell_type": "markdown",
      "metadata": {
        "id": "C9sfRuAUwWB4",
        "colab_type": "text"
      },
      "source": [
        "![xray-cover](https://github.com/mike-holcomb/curaeaidlhw-codelab3-chestxray8/blob/master/imgs/chestx-ray8.png?raw=1)"
      ]
    },
    {
      "cell_type": "markdown",
      "metadata": {
        "id": "nneYFX31wWB5",
        "colab_type": "text"
      },
      "source": [
        "The X-rays in this dataset are each labelled with 14 categories.  In contrast to the other exercises, this represents 14 simultaneous binary classifications for each of the categories.  As an example, an X-ray can contain both an \"effusion\" and \"pneumonia\" and would have a \"1\" for both of these labels."
      ]
    },
    {
      "cell_type": "markdown",
      "metadata": {
        "id": "JRBK0S4ZzIyG",
        "colab_type": "text"
      },
      "source": [
        "# Imports"
      ]
    },
    {
      "cell_type": "code",
      "metadata": {
        "id": "tf-BScTEzEKU",
        "colab_type": "code",
        "colab": {}
      },
      "source": [
        "from __future__ import print_function, division\n",
        "import numpy as np\n",
        "import matplotlib as mpl\n",
        "import matplotlib.pyplot as plt\n",
        "import os\n",
        "import pandas as pd\n",
        "from IPython.display import display, HTML\n",
        "%matplotlib inline"
      ],
      "execution_count": 0,
      "outputs": []
    },
    {
      "cell_type": "code",
      "metadata": {
        "id": "v-Fv4EUdzVGt",
        "colab_type": "code",
        "colab": {
          "base_uri": "https://localhost:8080/",
          "height": 68
        },
        "outputId": "e9c68a6a-0114-474d-e86e-011a4e4b344e"
      },
      "source": [
        "import tensorflow as tf\n",
        "tf.enable_eager_execution()\n",
        "\n",
        "tf.compat.v1.logging.set_verbosity(tf.compat.v1.logging.ERROR)\n",
        "print('Tensorflow version: ',tf.__version__)\n",
        "print('Is GPU available: %s' % str(tf.test.is_gpu_available()))\n",
        "print('Is Eager Execution enabled?: %s' % str(tf.executing_eagerly()))"
      ],
      "execution_count": 42,
      "outputs": [
        {
          "output_type": "stream",
          "text": [
            "Tensorflow version:  1.14.0\n",
            "Is GPU available: False\n",
            "Is Eager Execution enabled?: True\n"
          ],
          "name": "stdout"
        }
      ]
    },
    {
      "cell_type": "code",
      "metadata": {
        "id": "XRdpj8q-5RcY",
        "colab_type": "code",
        "colab": {}
      },
      "source": [
        "import tensorflow_hub as hub\n",
        "from tensorflow.keras import layers"
      ],
      "execution_count": 0,
      "outputs": []
    },
    {
      "cell_type": "markdown",
      "metadata": {
        "id": "q_4kRUX4wWB6",
        "colab_type": "text"
      },
      "source": [
        "## Load the data"
      ]
    },
    {
      "cell_type": "code",
      "metadata": {
        "id": "t2zDER-JwWB7",
        "colab_type": "code",
        "colab": {}
      },
      "source": [
        "import boto3\n",
        "import os\n",
        "\n",
        "s3 = boto3.client('s3',\n",
        "endpoint_url = 'https://s3.wasabisys.com',\n",
        "aws_access_key_id = 'VM2WCNG36U812Y1NGCT3',\n",
        "aws_secret_access_key='g3Dqovv3IYlIFDZyNWONXZSU5yhGZvWhKOJrBQRI')\n",
        "\n",
        "def download_files(filenames, save_dir):\n",
        "    for i, filename in enumerate(filenames):\n",
        "         print('Downloading %d: %s' % (i, filename)) \n",
        "         download_file(filename, save_dir)\n",
        "\n",
        "def download_file(filename, save_dir):\n",
        "    full_filename = os.path.join(save_dir,filename)\n",
        "    if os.path.exists(full_filename):\n",
        "        print('\\tAlready have: %s' % full_filename)\n",
        "        return\n",
        "    s3.download_file('curaedlhw',filename,full_filename)\n",
        "    print('\\tCOMPLETE: %s saved to %s' % (filename, save_dir))"
      ],
      "execution_count": 0,
      "outputs": []
    },
    {
      "cell_type": "markdown",
      "metadata": {
        "id": "0YKZYB8uw1E7",
        "colab_type": "text"
      },
      "source": [
        "**NOTE:** Make sure to set the `IS_ONEPANEL` flag to `True` if you are running this notebook from onepanel.io, "
      ]
    },
    {
      "cell_type": "code",
      "metadata": {
        "id": "cOgz9ickwWB-",
        "colab_type": "code",
        "colab": {}
      },
      "source": [
        "FILELIST = ['chest_xray_train_val.tar.gz']\n",
        "\n",
        "IS_ONEPANEL = False\n",
        "NEED_DOWNLOAD = False\n",
        "if IS_ONEPANEL:\n",
        "    DATA_DIR='/onepanel/input/datasets/curae/chestx-ray8-mini/1'\n",
        "else:\n",
        "    import os\n",
        "    DATA_DIR = 'data'\n",
        "    if NEED_DOWNLOAD:\n",
        "        if not os.path.exists(DATA_DIR):\n",
        "            os.mkdir(DATA_DIR)\n",
        "        download_files(FILELIST,DATA_DIR)\n",
        "\n",
        "os.environ[\"DATADIR\"] = DATA_DIR"
      ],
      "execution_count": 0,
      "outputs": []
    },
    {
      "cell_type": "code",
      "metadata": {
        "id": "54BfdvxuxvtA",
        "colab_type": "code",
        "colab": {}
      },
      "source": [
        "!tar xf $DATADIR/chest_xray_train_val.tar.gz -C $DATADIR"
      ],
      "execution_count": 0,
      "outputs": []
    },
    {
      "cell_type": "code",
      "metadata": {
        "id": "1_u0RE1GywTq",
        "colab_type": "code",
        "colab": {}
      },
      "source": [
        "meta_file = os.path.join(DATA_DIR,'train_val/train_val.parquet.gz')\n",
        "meta_df = pd.read_parquet(meta_file)"
      ],
      "execution_count": 0,
      "outputs": []
    },
    {
      "cell_type": "code",
      "metadata": {
        "id": "yvHd6YA708NP",
        "colab_type": "code",
        "colab": {
          "base_uri": "https://localhost:8080/",
          "height": 272
        },
        "outputId": "c8f66dbe-0c64-4e97-b94d-75de3713348d"
      },
      "source": [
        "meta_df.head()"
      ],
      "execution_count": 28,
      "outputs": [
        {
          "output_type": "execute_result",
          "data": {
            "text/html": [
              "<div>\n",
              "<style scoped>\n",
              "    .dataframe tbody tr th:only-of-type {\n",
              "        vertical-align: middle;\n",
              "    }\n",
              "\n",
              "    .dataframe tbody tr th {\n",
              "        vertical-align: top;\n",
              "    }\n",
              "\n",
              "    .dataframe thead th {\n",
              "        text-align: right;\n",
              "    }\n",
              "</style>\n",
              "<table border=\"1\" class=\"dataframe\">\n",
              "  <thead>\n",
              "    <tr style=\"text-align: right;\">\n",
              "      <th></th>\n",
              "      <th>Image Index</th>\n",
              "      <th>Finding Labels</th>\n",
              "      <th>Follow-up #</th>\n",
              "      <th>Patient ID</th>\n",
              "      <th>Patient Age</th>\n",
              "      <th>Patient Gender</th>\n",
              "      <th>View Position</th>\n",
              "      <th>OriginalImage[Width</th>\n",
              "      <th>Height]</th>\n",
              "      <th>OriginalImagePixelSpacing[x</th>\n",
              "      <th>y]</th>\n",
              "      <th>Cardiomegaly</th>\n",
              "      <th>Emphysema</th>\n",
              "      <th>Effusion</th>\n",
              "      <th>Hernia</th>\n",
              "      <th>Infiltration</th>\n",
              "      <th>Mass</th>\n",
              "      <th>Nodule</th>\n",
              "      <th>Atelectasis</th>\n",
              "      <th>Pneumothorax</th>\n",
              "      <th>Pleural_Thickening</th>\n",
              "      <th>Pneumonia</th>\n",
              "      <th>Fibrosis</th>\n",
              "      <th>Edema</th>\n",
              "      <th>Consolidation</th>\n",
              "      <th>group</th>\n",
              "    </tr>\n",
              "    <tr>\n",
              "      <th>index</th>\n",
              "      <th></th>\n",
              "      <th></th>\n",
              "      <th></th>\n",
              "      <th></th>\n",
              "      <th></th>\n",
              "      <th></th>\n",
              "      <th></th>\n",
              "      <th></th>\n",
              "      <th></th>\n",
              "      <th></th>\n",
              "      <th></th>\n",
              "      <th></th>\n",
              "      <th></th>\n",
              "      <th></th>\n",
              "      <th></th>\n",
              "      <th></th>\n",
              "      <th></th>\n",
              "      <th></th>\n",
              "      <th></th>\n",
              "      <th></th>\n",
              "      <th></th>\n",
              "      <th></th>\n",
              "      <th></th>\n",
              "      <th></th>\n",
              "      <th></th>\n",
              "      <th></th>\n",
              "    </tr>\n",
              "  </thead>\n",
              "  <tbody>\n",
              "    <tr>\n",
              "      <th>0</th>\n",
              "      <td>00000001_000.png</td>\n",
              "      <td>Cardiomegaly</td>\n",
              "      <td>0</td>\n",
              "      <td>1</td>\n",
              "      <td>58</td>\n",
              "      <td>M</td>\n",
              "      <td>PA</td>\n",
              "      <td>2682</td>\n",
              "      <td>2749</td>\n",
              "      <td>0.143</td>\n",
              "      <td>0.143</td>\n",
              "      <td>1</td>\n",
              "      <td>0</td>\n",
              "      <td>0</td>\n",
              "      <td>0</td>\n",
              "      <td>0</td>\n",
              "      <td>0</td>\n",
              "      <td>0</td>\n",
              "      <td>0</td>\n",
              "      <td>0</td>\n",
              "      <td>0</td>\n",
              "      <td>0</td>\n",
              "      <td>0</td>\n",
              "      <td>0</td>\n",
              "      <td>0</td>\n",
              "      <td>0</td>\n",
              "    </tr>\n",
              "    <tr>\n",
              "      <th>1</th>\n",
              "      <td>00000001_001.png</td>\n",
              "      <td>Cardiomegaly|Emphysema</td>\n",
              "      <td>1</td>\n",
              "      <td>1</td>\n",
              "      <td>58</td>\n",
              "      <td>M</td>\n",
              "      <td>PA</td>\n",
              "      <td>2894</td>\n",
              "      <td>2729</td>\n",
              "      <td>0.143</td>\n",
              "      <td>0.143</td>\n",
              "      <td>1</td>\n",
              "      <td>1</td>\n",
              "      <td>0</td>\n",
              "      <td>0</td>\n",
              "      <td>0</td>\n",
              "      <td>0</td>\n",
              "      <td>0</td>\n",
              "      <td>0</td>\n",
              "      <td>0</td>\n",
              "      <td>0</td>\n",
              "      <td>0</td>\n",
              "      <td>0</td>\n",
              "      <td>0</td>\n",
              "      <td>0</td>\n",
              "      <td>0</td>\n",
              "    </tr>\n",
              "    <tr>\n",
              "      <th>2</th>\n",
              "      <td>00000001_002.png</td>\n",
              "      <td>Cardiomegaly|Effusion</td>\n",
              "      <td>2</td>\n",
              "      <td>1</td>\n",
              "      <td>58</td>\n",
              "      <td>M</td>\n",
              "      <td>PA</td>\n",
              "      <td>2500</td>\n",
              "      <td>2048</td>\n",
              "      <td>0.168</td>\n",
              "      <td>0.168</td>\n",
              "      <td>1</td>\n",
              "      <td>0</td>\n",
              "      <td>1</td>\n",
              "      <td>0</td>\n",
              "      <td>0</td>\n",
              "      <td>0</td>\n",
              "      <td>0</td>\n",
              "      <td>0</td>\n",
              "      <td>0</td>\n",
              "      <td>0</td>\n",
              "      <td>0</td>\n",
              "      <td>0</td>\n",
              "      <td>0</td>\n",
              "      <td>0</td>\n",
              "      <td>0</td>\n",
              "    </tr>\n",
              "    <tr>\n",
              "      <th>3</th>\n",
              "      <td>00000003_000.png</td>\n",
              "      <td>Hernia</td>\n",
              "      <td>0</td>\n",
              "      <td>3</td>\n",
              "      <td>81</td>\n",
              "      <td>F</td>\n",
              "      <td>PA</td>\n",
              "      <td>2582</td>\n",
              "      <td>2991</td>\n",
              "      <td>0.143</td>\n",
              "      <td>0.143</td>\n",
              "      <td>0</td>\n",
              "      <td>0</td>\n",
              "      <td>0</td>\n",
              "      <td>1</td>\n",
              "      <td>0</td>\n",
              "      <td>0</td>\n",
              "      <td>0</td>\n",
              "      <td>0</td>\n",
              "      <td>0</td>\n",
              "      <td>0</td>\n",
              "      <td>0</td>\n",
              "      <td>0</td>\n",
              "      <td>0</td>\n",
              "      <td>0</td>\n",
              "      <td>0</td>\n",
              "    </tr>\n",
              "    <tr>\n",
              "      <th>4</th>\n",
              "      <td>00000003_001.png</td>\n",
              "      <td>Hernia</td>\n",
              "      <td>1</td>\n",
              "      <td>3</td>\n",
              "      <td>74</td>\n",
              "      <td>F</td>\n",
              "      <td>PA</td>\n",
              "      <td>2500</td>\n",
              "      <td>2048</td>\n",
              "      <td>0.168</td>\n",
              "      <td>0.168</td>\n",
              "      <td>0</td>\n",
              "      <td>0</td>\n",
              "      <td>0</td>\n",
              "      <td>1</td>\n",
              "      <td>0</td>\n",
              "      <td>0</td>\n",
              "      <td>0</td>\n",
              "      <td>0</td>\n",
              "      <td>0</td>\n",
              "      <td>0</td>\n",
              "      <td>0</td>\n",
              "      <td>0</td>\n",
              "      <td>0</td>\n",
              "      <td>0</td>\n",
              "      <td>0</td>\n",
              "    </tr>\n",
              "  </tbody>\n",
              "</table>\n",
              "</div>"
            ],
            "text/plain": [
              "            Image Index          Finding Labels  ...  Consolidation  group\n",
              "index                                            ...                      \n",
              "0      00000001_000.png            Cardiomegaly  ...              0      0\n",
              "1      00000001_001.png  Cardiomegaly|Emphysema  ...              0      0\n",
              "2      00000001_002.png   Cardiomegaly|Effusion  ...              0      0\n",
              "3      00000003_000.png                  Hernia  ...              0      0\n",
              "4      00000003_001.png                  Hernia  ...              0      0\n",
              "\n",
              "[5 rows x 26 columns]"
            ]
          },
          "metadata": {
            "tags": []
          },
          "execution_count": 28
        }
      ]
    },
    {
      "cell_type": "markdown",
      "metadata": {
        "id": "P-pBWSvu2jeu",
        "colab_type": "text"
      },
      "source": [
        ""
      ]
    },
    {
      "cell_type": "code",
      "metadata": {
        "id": "YWUWhZ-N2qgX",
        "colab_type": "code",
        "colab": {
          "base_uri": "https://localhost:8080/",
          "height": 334
        },
        "outputId": "8306f5f7-115c-438d-f38d-29758853dce8"
      },
      "source": [
        "meta_df.describe()"
      ],
      "execution_count": 32,
      "outputs": [
        {
          "output_type": "execute_result",
          "data": {
            "text/html": [
              "<div>\n",
              "<style scoped>\n",
              "    .dataframe tbody tr th:only-of-type {\n",
              "        vertical-align: middle;\n",
              "    }\n",
              "\n",
              "    .dataframe tbody tr th {\n",
              "        vertical-align: top;\n",
              "    }\n",
              "\n",
              "    .dataframe thead th {\n",
              "        text-align: right;\n",
              "    }\n",
              "</style>\n",
              "<table border=\"1\" class=\"dataframe\">\n",
              "  <thead>\n",
              "    <tr style=\"text-align: right;\">\n",
              "      <th></th>\n",
              "      <th>Follow-up #</th>\n",
              "      <th>Patient ID</th>\n",
              "      <th>Patient Age</th>\n",
              "      <th>OriginalImage[Width</th>\n",
              "      <th>Height]</th>\n",
              "      <th>OriginalImagePixelSpacing[x</th>\n",
              "      <th>y]</th>\n",
              "      <th>Cardiomegaly</th>\n",
              "      <th>Emphysema</th>\n",
              "      <th>Effusion</th>\n",
              "      <th>Hernia</th>\n",
              "      <th>Infiltration</th>\n",
              "      <th>Mass</th>\n",
              "      <th>Nodule</th>\n",
              "      <th>Atelectasis</th>\n",
              "      <th>Pneumothorax</th>\n",
              "      <th>Pleural_Thickening</th>\n",
              "      <th>Pneumonia</th>\n",
              "      <th>Fibrosis</th>\n",
              "      <th>Edema</th>\n",
              "      <th>Consolidation</th>\n",
              "      <th>group</th>\n",
              "    </tr>\n",
              "  </thead>\n",
              "  <tbody>\n",
              "    <tr>\n",
              "      <th>count</th>\n",
              "      <td>46546.000000</td>\n",
              "      <td>46546.000000</td>\n",
              "      <td>46546.000000</td>\n",
              "      <td>46546.000000</td>\n",
              "      <td>46546.000000</td>\n",
              "      <td>46546.000000</td>\n",
              "      <td>46546.000000</td>\n",
              "      <td>46546.000000</td>\n",
              "      <td>46546.000000</td>\n",
              "      <td>46546.000000</td>\n",
              "      <td>46546.000000</td>\n",
              "      <td>46546.000000</td>\n",
              "      <td>46546.000000</td>\n",
              "      <td>46546.000000</td>\n",
              "      <td>46546.000000</td>\n",
              "      <td>46546.000000</td>\n",
              "      <td>46546.000000</td>\n",
              "      <td>46546.000000</td>\n",
              "      <td>46546.000000</td>\n",
              "      <td>46546.000000</td>\n",
              "      <td>46546.000000</td>\n",
              "      <td>46546.000000</td>\n",
              "    </tr>\n",
              "    <tr>\n",
              "      <th>mean</th>\n",
              "      <td>11.495703</td>\n",
              "      <td>14757.351566</td>\n",
              "      <td>48.473725</td>\n",
              "      <td>2668.238903</td>\n",
              "      <td>2480.345808</td>\n",
              "      <td>0.155148</td>\n",
              "      <td>0.155148</td>\n",
              "      <td>0.053818</td>\n",
              "      <td>0.049070</td>\n",
              "      <td>0.255726</td>\n",
              "      <td>0.004082</td>\n",
              "      <td>0.384007</td>\n",
              "      <td>0.112727</td>\n",
              "      <td>0.123555</td>\n",
              "      <td>0.221781</td>\n",
              "      <td>0.102136</td>\n",
              "      <td>0.066601</td>\n",
              "      <td>0.027349</td>\n",
              "      <td>0.032785</td>\n",
              "      <td>0.045052</td>\n",
              "      <td>0.089739</td>\n",
              "      <td>0.107249</td>\n",
              "    </tr>\n",
              "    <tr>\n",
              "      <th>std</th>\n",
              "      <td>18.062218</td>\n",
              "      <td>8306.197211</td>\n",
              "      <td>16.678009</td>\n",
              "      <td>332.593252</td>\n",
              "      <td>400.402098</td>\n",
              "      <td>0.016008</td>\n",
              "      <td>0.016008</td>\n",
              "      <td>0.225660</td>\n",
              "      <td>0.216016</td>\n",
              "      <td>0.436273</td>\n",
              "      <td>0.063761</td>\n",
              "      <td>0.486365</td>\n",
              "      <td>0.316262</td>\n",
              "      <td>0.329077</td>\n",
              "      <td>0.415449</td>\n",
              "      <td>0.302830</td>\n",
              "      <td>0.249332</td>\n",
              "      <td>0.163101</td>\n",
              "      <td>0.178075</td>\n",
              "      <td>0.207421</td>\n",
              "      <td>0.285811</td>\n",
              "      <td>0.309433</td>\n",
              "    </tr>\n",
              "    <tr>\n",
              "      <th>min</th>\n",
              "      <td>0.000000</td>\n",
              "      <td>1.000000</td>\n",
              "      <td>1.000000</td>\n",
              "      <td>1215.000000</td>\n",
              "      <td>966.000000</td>\n",
              "      <td>0.115000</td>\n",
              "      <td>0.115000</td>\n",
              "      <td>0.000000</td>\n",
              "      <td>0.000000</td>\n",
              "      <td>0.000000</td>\n",
              "      <td>0.000000</td>\n",
              "      <td>0.000000</td>\n",
              "      <td>0.000000</td>\n",
              "      <td>0.000000</td>\n",
              "      <td>0.000000</td>\n",
              "      <td>0.000000</td>\n",
              "      <td>0.000000</td>\n",
              "      <td>0.000000</td>\n",
              "      <td>0.000000</td>\n",
              "      <td>0.000000</td>\n",
              "      <td>0.000000</td>\n",
              "      <td>0.000000</td>\n",
              "    </tr>\n",
              "    <tr>\n",
              "      <th>25%</th>\n",
              "      <td>1.000000</td>\n",
              "      <td>8038.250000</td>\n",
              "      <td>37.000000</td>\n",
              "      <td>2500.000000</td>\n",
              "      <td>2048.000000</td>\n",
              "      <td>0.143000</td>\n",
              "      <td>0.143000</td>\n",
              "      <td>0.000000</td>\n",
              "      <td>0.000000</td>\n",
              "      <td>0.000000</td>\n",
              "      <td>0.000000</td>\n",
              "      <td>0.000000</td>\n",
              "      <td>0.000000</td>\n",
              "      <td>0.000000</td>\n",
              "      <td>0.000000</td>\n",
              "      <td>0.000000</td>\n",
              "      <td>0.000000</td>\n",
              "      <td>0.000000</td>\n",
              "      <td>0.000000</td>\n",
              "      <td>0.000000</td>\n",
              "      <td>0.000000</td>\n",
              "      <td>0.000000</td>\n",
              "    </tr>\n",
              "    <tr>\n",
              "      <th>50%</th>\n",
              "      <td>5.000000</td>\n",
              "      <td>14617.000000</td>\n",
              "      <td>51.000000</td>\n",
              "      <td>2544.000000</td>\n",
              "      <td>2544.000000</td>\n",
              "      <td>0.143000</td>\n",
              "      <td>0.143000</td>\n",
              "      <td>0.000000</td>\n",
              "      <td>0.000000</td>\n",
              "      <td>0.000000</td>\n",
              "      <td>0.000000</td>\n",
              "      <td>0.000000</td>\n",
              "      <td>0.000000</td>\n",
              "      <td>0.000000</td>\n",
              "      <td>0.000000</td>\n",
              "      <td>0.000000</td>\n",
              "      <td>0.000000</td>\n",
              "      <td>0.000000</td>\n",
              "      <td>0.000000</td>\n",
              "      <td>0.000000</td>\n",
              "      <td>0.000000</td>\n",
              "      <td>0.000000</td>\n",
              "    </tr>\n",
              "    <tr>\n",
              "      <th>75%</th>\n",
              "      <td>14.000000</td>\n",
              "      <td>20907.000000</td>\n",
              "      <td>60.000000</td>\n",
              "      <td>2992.000000</td>\n",
              "      <td>2991.000000</td>\n",
              "      <td>0.168000</td>\n",
              "      <td>0.168000</td>\n",
              "      <td>0.000000</td>\n",
              "      <td>0.000000</td>\n",
              "      <td>1.000000</td>\n",
              "      <td>0.000000</td>\n",
              "      <td>1.000000</td>\n",
              "      <td>0.000000</td>\n",
              "      <td>0.000000</td>\n",
              "      <td>0.000000</td>\n",
              "      <td>0.000000</td>\n",
              "      <td>0.000000</td>\n",
              "      <td>0.000000</td>\n",
              "      <td>0.000000</td>\n",
              "      <td>0.000000</td>\n",
              "      <td>0.000000</td>\n",
              "      <td>0.000000</td>\n",
              "    </tr>\n",
              "    <tr>\n",
              "      <th>max</th>\n",
              "      <td>183.000000</td>\n",
              "      <td>30795.000000</td>\n",
              "      <td>414.000000</td>\n",
              "      <td>3827.000000</td>\n",
              "      <td>3567.000000</td>\n",
              "      <td>0.198800</td>\n",
              "      <td>0.198800</td>\n",
              "      <td>1.000000</td>\n",
              "      <td>1.000000</td>\n",
              "      <td>1.000000</td>\n",
              "      <td>1.000000</td>\n",
              "      <td>1.000000</td>\n",
              "      <td>1.000000</td>\n",
              "      <td>1.000000</td>\n",
              "      <td>1.000000</td>\n",
              "      <td>1.000000</td>\n",
              "      <td>1.000000</td>\n",
              "      <td>1.000000</td>\n",
              "      <td>1.000000</td>\n",
              "      <td>1.000000</td>\n",
              "      <td>1.000000</td>\n",
              "      <td>1.000000</td>\n",
              "    </tr>\n",
              "  </tbody>\n",
              "</table>\n",
              "</div>"
            ],
            "text/plain": [
              "        Follow-up #    Patient ID  ...  Consolidation         group\n",
              "count  46546.000000  46546.000000  ...   46546.000000  46546.000000\n",
              "mean      11.495703  14757.351566  ...       0.089739      0.107249\n",
              "std       18.062218   8306.197211  ...       0.285811      0.309433\n",
              "min        0.000000      1.000000  ...       0.000000      0.000000\n",
              "25%        1.000000   8038.250000  ...       0.000000      0.000000\n",
              "50%        5.000000  14617.000000  ...       0.000000      0.000000\n",
              "75%       14.000000  20907.000000  ...       0.000000      0.000000\n",
              "max      183.000000  30795.000000  ...       1.000000      1.000000\n",
              "\n",
              "[8 rows x 22 columns]"
            ]
          },
          "metadata": {
            "tags": []
          },
          "execution_count": 32
        }
      ]
    },
    {
      "cell_type": "code",
      "metadata": {
        "id": "1kzeIVj715Mt",
        "colab_type": "code",
        "colab": {}
      },
      "source": [
        "class_map = {'Cardiomegaly': 0,\n",
        "             'Emphysema': 1,\n",
        "             'Effusion': 2,\n",
        "             'Hernia': 3,\n",
        "             'Infiltration': 4,\n",
        "             'Mass': 5,\n",
        "             'Nodule': 6,\n",
        "             'Atelectasis': 7,\n",
        "             'Pneumothorax' : 8,\n",
        "             'Pleural_Thickening': 9,\n",
        "             'Pneumonia' : 10,\n",
        "             'Fibrosis' : 11,\n",
        "             'Edema': 12,\n",
        "             'Consolidation': 13}\n",
        "class_list = [''] * 14\n",
        "for class_name, class_index in class_map.items():\n",
        "  class_list[class_index] = class_name"
      ],
      "execution_count": 0,
      "outputs": []
    },
    {
      "cell_type": "code",
      "metadata": {
        "id": "lczkkiK-GLLT",
        "colab_type": "code",
        "colab": {}
      },
      "source": [
        "def convert_to_label_string(arr):\n",
        "  label = []\n",
        "  for i, val in enumerate(arr):\n",
        "    if val == 1:\n",
        "      label.append(class_list[i])\n",
        "  return '|'.join(label)"
      ],
      "execution_count": 0,
      "outputs": []
    },
    {
      "cell_type": "code",
      "metadata": {
        "id": "ZAb5GKdI2cU7",
        "colab_type": "code",
        "colab": {}
      },
      "source": [
        "train_y = meta_df[meta_df['group']==0][class_map.keys()].values\n",
        "test_y = meta_df[meta_df['group']==1][class_map.keys()].values"
      ],
      "execution_count": 0,
      "outputs": []
    },
    {
      "cell_type": "code",
      "metadata": {
        "id": "jxbyxWm73SPu",
        "colab_type": "code",
        "colab": {
          "base_uri": "https://localhost:8080/",
          "height": 34
        },
        "outputId": "68383bbc-563d-46df-8baf-177706e12ada"
      },
      "source": [
        "print(\"Size of train set: %d, test set: %d\" % (len(train_y),len(test_y)))"
      ],
      "execution_count": 41,
      "outputs": [
        {
          "output_type": "stream",
          "text": [
            "Size of train set: 41554, test set: 4992\n"
          ],
          "name": "stdout"
        }
      ]
    },
    {
      "cell_type": "code",
      "metadata": {
        "id": "2qx_ijrNATgq",
        "colab_type": "code",
        "colab": {}
      },
      "source": [
        "train_x = meta_df[meta_df['group']==0]['Image Index'].values\n",
        "test_x = meta_df[meta_df['group']==1]['Image Index'].values"
      ],
      "execution_count": 0,
      "outputs": []
    },
    {
      "cell_type": "markdown",
      "metadata": {
        "id": "t5pnWY0M5eJy",
        "colab_type": "text"
      },
      "source": [
        "## Build dataloader"
      ]
    },
    {
      "cell_type": "code",
      "metadata": {
        "id": "c1yQLt9b_2YE",
        "colab_type": "code",
        "colab": {}
      },
      "source": [
        "from skimage.io import imread\n",
        "from skimage.transform import resize\n",
        "import numpy as np\n",
        "from tensorflow.keras.utils import Sequence\n",
        "\n",
        "class ChestXraySequence(Sequence):\n",
        "    def __init__(self, x_set, y_set, batch_size,folder):\n",
        "        self.x, self.y = x_set, y_set\n",
        "        self.batch_size = batch_size\n",
        "        self.folder = folder\n",
        "\n",
        "    def __len__(self):\n",
        "        return int(np.ceil(len(self.x) / float(self.batch_size)))\n",
        "\n",
        "    def __getitem__(self, idx):\n",
        "        batch_x = self.x[idx * self.batch_size:(idx + 1) * self.batch_size]\n",
        "        batch_y = self.y[idx * self.batch_size:(idx + 1) * self.batch_size]\n",
        "\n",
        "        return np.repeat((np.array([\n",
        "            imread(os.path.join(self.folder, file_name))\n",
        "               for file_name in batch_x])/255.).reshape(self.batch_size,224,224,1),3,3), np.array(batch_y)"
      ],
      "execution_count": 0,
      "outputs": []
    },
    {
      "cell_type": "code",
      "metadata": {
        "id": "6Cq0362U_2d3",
        "colab_type": "code",
        "colab": {}
      },
      "source": [
        "train_seq = ChestXraySequence(x_set=train_x,\n",
        "                              y_set=train_y,\n",
        "                              batch_size=32,\n",
        "                              folder=os.path.join(DATA_DIR,'train_val','images','train'))"
      ],
      "execution_count": 0,
      "outputs": []
    },
    {
      "cell_type": "code",
      "metadata": {
        "id": "L5d4_pVp_2gQ",
        "colab_type": "code",
        "colab": {}
      },
      "source": [
        "x, y = train_seq[1]"
      ],
      "execution_count": 0,
      "outputs": []
    },
    {
      "cell_type": "code",
      "metadata": {
        "id": "lpAy-kTAFSSu",
        "colab_type": "code",
        "colab": {
          "base_uri": "https://localhost:8080/",
          "height": 34
        },
        "outputId": "43ecefc9-f1c3-4720-9e3d-fe58bf16d43c"
      },
      "source": [
        "x.shape, y.shape"
      ],
      "execution_count": 189,
      "outputs": [
        {
          "output_type": "execute_result",
          "data": {
            "text/plain": [
              "((32, 224, 224, 3), (32, 14))"
            ]
          },
          "metadata": {
            "tags": []
          },
          "execution_count": 189
        }
      ]
    },
    {
      "cell_type": "markdown",
      "metadata": {
        "id": "rb2uJPupFTOw",
        "colab_type": "text"
      },
      "source": [
        "## Inspect the data"
      ]
    },
    {
      "cell_type": "code",
      "metadata": {
        "id": "y8DhrWiuFQO0",
        "colab_type": "code",
        "colab": {}
      },
      "source": [
        "sample_img, sample_y = x[:10], y[:10]"
      ],
      "execution_count": 0,
      "outputs": []
    },
    {
      "cell_type": "code",
      "metadata": {
        "id": "vV4akGC0_2j3",
        "colab_type": "code",
        "colab": {
          "base_uri": "https://localhost:8080/",
          "height": 34
        },
        "outputId": "78c197f6-ebcf-4e3e-eeb6-5e2519c5e1f3"
      },
      "source": [
        "fig, ax = plt.subplots(5,2, figsize=(20,20))\n",
        "for i, (img, label) in enumerate(zip(sample_img, sample_y)):\n",
        "    ax[i//2,i%2].title.set_text(\"Metastases\" if label == 1 else \"No Metastases\")\n",
        "    ax[i//2,i%2].imshow(img)"
      ],
      "execution_count": 188,
      "outputs": [
        {
          "output_type": "execute_result",
          "data": {
            "text/plain": [
              "(32, 224, 224, 3)"
            ]
          },
          "metadata": {
            "tags": []
          },
          "execution_count": 188
        }
      ]
    },
    {
      "cell_type": "code",
      "metadata": {
        "id": "EY9r5h7rFMAd",
        "colab_type": "code",
        "colab": {}
      },
      "source": [
        ""
      ],
      "execution_count": 0,
      "outputs": []
    },
    {
      "cell_type": "code",
      "metadata": {
        "id": "V3Hjjc7-FMIP",
        "colab_type": "code",
        "colab": {}
      },
      "source": [
        ""
      ],
      "execution_count": 0,
      "outputs": []
    },
    {
      "cell_type": "code",
      "metadata": {
        "id": "msKlbB6FFMLQ",
        "colab_type": "code",
        "colab": {}
      },
      "source": [
        ""
      ],
      "execution_count": 0,
      "outputs": []
    },
    {
      "cell_type": "code",
      "metadata": {
        "id": "YhtIMqtv5dcf",
        "colab_type": "code",
        "colab": {}
      },
      "source": [
        "https://tfhub.dev/google/imagenet/mobilenet_v2_035_160/classification/3"
      ],
      "execution_count": 0,
      "outputs": []
    }
  ]
}