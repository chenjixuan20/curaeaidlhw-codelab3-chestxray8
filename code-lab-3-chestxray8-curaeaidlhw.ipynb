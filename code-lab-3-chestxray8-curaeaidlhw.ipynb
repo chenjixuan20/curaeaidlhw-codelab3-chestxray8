{
 "cells": [
  {
   "cell_type": "markdown",
   "metadata": {},
   "source": [
    "Code Lab 3: ChestX-ray8, National Institutes of Health Chest X-Ray Dataset\n",
    "==="
   ]
  },
  {
   "cell_type": "markdown",
   "metadata": {},
   "source": [
    "These are the materials for the third code lab in Curae.ai's Deep Learning in Healthcare Workshop.\n",
    "\n",
    "The notebook in this lab is only a baseline notebook meant to help users download the dataset, document its formatting and discuss multi-label classification. Users will compete using this multilabel classification in the Curae.ai DLWH competition. Class is over! You are ready."
   ]
  },
  {
   "cell_type": "markdown",
   "metadata": {},
   "source": [
    "# The Problem"
   ]
  },
  {
   "cell_type": "markdown",
   "metadata": {},
   "source": [
    "In this code lab we will investigate the ChestX-ray8 dataset published by the National Institutes of Health (NIH).  From the paper describing the release of the dataset:\n",
    "> The chest X-ray is one of the most commonly accessible radiological examinations for screening and diagnosis of many lung diseases. A tremendous number of X-ray imaging studies accompanied by radiological reports are accumulated and stored in many modern hospitals’ Picture Archiving and Communication Systems (PACS). On the other side, it is still an open question how this type of hospital-size knowledge database containing invaluable imaging informatics (i.e., loosely labeled) can be used to facilitate the data-hungry deep learning paradigms in building truly large-scale high precision computer-aided diagnosis (CAD) systems. [1](http://openaccess.thecvf.com/content_cvpr_2017/papers/Wang_ChestX-ray8_Hospital-Scale_Chest_CVPR_2017_paper.pdf)"
   ]
  },
  {
   "cell_type": "markdown",
   "metadata": {},
   "source": [
    "![xray-cover](imgs/chestx-ray8.png)"
   ]
  },
  {
   "cell_type": "markdown",
   "metadata": {},
   "source": [
    "The X-rays in this dataset are each labelled with 14 categories.  In contrast to the other exercises, this represents 14 simultaneous binary classifications for each of the categories.  As an example, an X-ray can contain both an \"effusion\" and \"pneumonia\" and would have a \"1\" for both of these labels."
   ]
  },
  {
   "cell_type": "markdown",
   "metadata": {},
   "source": [
    "## Load the data"
   ]
  },
  {
   "cell_type": "code",
   "execution_count": 3,
   "metadata": {},
   "outputs": [
    {
     "ename": "ModuleNotFoundError",
     "evalue": "No module named 'boto3'",
     "output_type": "error",
     "traceback": [
      "\u001b[0;31m---------------------------------------------------------------------------\u001b[0m",
      "\u001b[0;31mModuleNotFoundError\u001b[0m                       Traceback (most recent call last)",
      "\u001b[0;32m<ipython-input-3-3a3281b957ec>\u001b[0m in \u001b[0;36m<module>\u001b[0;34m()\u001b[0m\n\u001b[0;32m----> 1\u001b[0;31m \u001b[0;32mimport\u001b[0m \u001b[0mboto3\u001b[0m\u001b[0;34m\u001b[0m\u001b[0;34m\u001b[0m\u001b[0m\n\u001b[0m\u001b[1;32m      2\u001b[0m \u001b[0;32mimport\u001b[0m \u001b[0mos\u001b[0m\u001b[0;34m\u001b[0m\u001b[0;34m\u001b[0m\u001b[0m\n\u001b[1;32m      3\u001b[0m \u001b[0;34m\u001b[0m\u001b[0m\n\u001b[1;32m      4\u001b[0m s3 = boto3.client('s3',\n\u001b[1;32m      5\u001b[0m \u001b[0mendpoint_url\u001b[0m \u001b[0;34m=\u001b[0m \u001b[0;34m'https://s3.wasabisys.com'\u001b[0m\u001b[0;34m,\u001b[0m\u001b[0;34m\u001b[0m\u001b[0;34m\u001b[0m\u001b[0m\n",
      "\u001b[0;31mModuleNotFoundError\u001b[0m: No module named 'boto3'"
     ]
    }
   ],
   "source": [
    "import boto3\n",
    "import os\n",
    "\n",
    "s3 = boto3.client('s3',\n",
    "endpoint_url = 'https://s3.wasabisys.com',\n",
    "aws_access_key_id = 'VM2WCNG36U812Y1NGCT3',\n",
    "aws_secret_access_key='g3Dqovv3IYlIFDZyNWONXZSU5yhGZvWhKOJrBQRI')\n",
    "\n",
    "def download_files(filenames, save_dir):\n",
    "    for i, filename in enumerate(filenames):\n",
    "         print('Downloading %d: %s' % (i, filename)) \n",
    "         download_file(filename, save_dir)\n",
    "\n",
    "def download_file(filename, save_dir):\n",
    "    full_filename = os.path.join(save_dir,filename)\n",
    "    if os.path.exists(full_filename):\n",
    "        print('\\tAlready have: %s' % full_filename)\n",
    "        return\n",
    "    s3.download_file('curaedlhw',filename,full_filename)\n",
    "    print('\\tCOMPLETE: %s saved to %s' % (filename, save_dir))"
   ]
  },
  {
   "cell_type": "code",
   "execution_count": null,
   "metadata": {},
   "outputs": [],
   "source": []
  }
 ],
 "metadata": {
  "kernelspec": {
   "display_name": "Intel Python",
   "language": "python",
   "name": "intelpython"
  },
  "language_info": {
   "codemirror_mode": {
    "name": "ipython",
    "version": 3
   },
   "file_extension": ".py",
   "mimetype": "text/x-python",
   "name": "python",
   "nbconvert_exporter": "python",
   "pygments_lexer": "ipython3",
   "version": "3.6.8"
  },
  "toc": {
   "base_numbering": 1,
   "nav_menu": {},
   "number_sections": true,
   "sideBar": true,
   "skip_h1_title": false,
   "title_cell": "Table of Contents",
   "title_sidebar": "Contents",
   "toc_cell": false,
   "toc_position": {},
   "toc_section_display": true,
   "toc_window_display": false
  }
 },
 "nbformat": 4,
 "nbformat_minor": 2
}
